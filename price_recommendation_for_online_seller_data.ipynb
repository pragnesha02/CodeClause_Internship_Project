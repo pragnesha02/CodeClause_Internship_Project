{
  "cells": [
    {
      "cell_type": "markdown",
      "metadata": {
        "id": "view-in-github",
        "colab_type": "text"
      },
      "source": [
        "<a href=\"https://colab.research.google.com/github/pragnesha02/CodeClause_Internship_Project/blob/main/price_recommendation_for_online_seller_data.ipynb\" target=\"_parent\"><img src=\"https://colab.research.google.com/assets/colab-badge.svg\" alt=\"Open In Colab\"/></a>"
      ]
    },
    {
      "cell_type": "markdown",
      "metadata": {
        "id": "S1VmmgZAJobT"
      },
      "source": [
        "Price Recommendation For online sellers"
      ]
    },
    {
      "cell_type": "markdown",
      "metadata": {
        "id": "p9jlUEOKK_Av"
      },
      "source": [
        "Import Dataset and Laibraries"
      ]
    },
    {
      "cell_type": "code",
      "execution_count": 88,
      "metadata": {
        "id": "pApaJ-8qGA94"
      },
      "outputs": [],
      "source": [
        "import numpy as np\n",
        "import pandas as pd\n",
        "import matplotlib.pyplot as plt\n",
        "import seaborn as sns"
      ]
    },
    {
      "cell_type": "code",
      "execution_count": 55,
      "metadata": {
        "id": "QaEifk3lGyaM"
      },
      "outputs": [],
      "source": [
        "data=pd.read_csv('price recom data.csv')"
      ]
    },
    {
      "cell_type": "code",
      "execution_count": 73,
      "metadata": {
        "colab": {
          "base_uri": "https://localhost:8080/"
        },
        "id": "mECgrMhNG6Z7",
        "outputId": "5014bd81-376d-4e38-a22f-4bcdbaedee45"
      },
      "outputs": [
        {
          "output_type": "stream",
          "name": "stdout",
          "text": [
            "  InvoiceNo StockCode                          Description  Quantity  \\\n",
            "0    536365    85123A   WHITE HANGING HEART T-LIGHT HOLDER       6.0   \n",
            "1    536365     71053                  WHITE METAL LANTERN       6.0   \n",
            "2    536365    84406B       CREAM CUPID HEARTS COAT HANGER       8.0   \n",
            "3    536365    84029G  KNITTED UNION FLAG HOT WATER BOTTLE       6.0   \n",
            "4    536365    84029E       RED WOOLLY HOTTIE WHITE HEART.       6.0   \n",
            "\n",
            "      InvoiceDate  UnitPrice  CustomerID         Country  \n",
            "0  12/1/2010 8:26       2.55     17850.0  United Kingdom  \n",
            "1  12/1/2010 8:26       3.39     17850.0  United Kingdom  \n",
            "2  12/1/2010 8:26       2.75     17850.0  United Kingdom  \n",
            "3  12/1/2010 8:26       3.39     17850.0  United Kingdom  \n",
            "4  12/1/2010 8:26       3.39     17850.0  United Kingdom  \n"
          ]
        }
      ],
      "source": [
        "print(data.head())"
      ]
    },
    {
      "cell_type": "code",
      "execution_count": 74,
      "metadata": {
        "colab": {
          "base_uri": "https://localhost:8080/"
        },
        "id": "4GZ7i8QUIphe",
        "outputId": "1d23c7c6-aa11-46d3-d27d-bc979fe5ad16"
      },
      "outputs": [
        {
          "output_type": "stream",
          "name": "stdout",
          "text": [
            "(12462, 8)\n"
          ]
        }
      ],
      "source": [
        "print(data.shape)"
      ]
    },
    {
      "cell_type": "code",
      "execution_count": 86,
      "metadata": {
        "colab": {
          "base_uri": "https://localhost:8080/"
        },
        "id": "7WOniLtxJl5c",
        "outputId": "f3a82f24-cc4e-4f08-d5fc-42ff1f64c93c"
      },
      "outputs": [
        {
          "output_type": "stream",
          "name": "stdout",
          "text": [
            "      InvoiceNo StockCode                     Description  Quantity  \\\n",
            "12457    537381     22632       HAND WARMER RED RETROSPOT      24.0   \n",
            "12458    537381     22633          HAND WARMER UNION JACK      20.0   \n",
            "12459    537381     22867         HAND WARMER BIRD DESIGN      24.0   \n",
            "12460    537381     22601  CHRISTMAS RETROSPOT ANGEL WOOD      17.0   \n",
            "12461    537381     22603                 CHRISTMAS RETRO       NaN   \n",
            "\n",
            "           InvoiceDate  UnitPrice  CustomerID         Country  \n",
            "12457  12/6/2010 13:13       2.10     14667.0  United Kingdom  \n",
            "12458  12/6/2010 13:13       2.10     14667.0  United Kingdom  \n",
            "12459  12/6/2010 13:13       2.10     14667.0  United Kingdom  \n",
            "12460  12/6/2010 13:13       0.85     14667.0  United Kingdom  \n",
            "12461              NaN        NaN         NaN             NaN  \n"
          ]
        }
      ],
      "source": [
        "print(data.tail())"
      ]
    },
    {
      "cell_type": "code",
      "execution_count": 76,
      "metadata": {
        "colab": {
          "base_uri": "https://localhost:8080/"
        },
        "id": "buhxMEWWMH8t",
        "outputId": "0dba67af-2901-4fb4-ee7a-8b8fbd216dd5"
      },
      "outputs": [
        {
          "output_type": "stream",
          "name": "stdout",
          "text": [
            "           Quantity     UnitPrice    CustomerID\n",
            "count  12461.000000  12461.000000   8956.000000\n",
            "mean       7.477249      3.973280  15598.129299\n",
            "std       93.885564     17.253932   1748.194062\n",
            "min    -9360.000000      0.000000  12395.000000\n",
            "25%        1.000000      1.250000  14307.000000\n",
            "50%        2.000000      2.510000  15646.000000\n",
            "75%        6.000000      4.210000  17211.000000\n",
            "max     2880.000000    940.870000  18239.000000\n"
          ]
        }
      ],
      "source": [
        "print(data.describe())"
      ]
    },
    {
      "cell_type": "code",
      "execution_count": 77,
      "metadata": {
        "colab": {
          "base_uri": "https://localhost:8080/"
        },
        "id": "zTz5uxZcMbSB",
        "outputId": "7f21f99e-b3ff-4df1-bbcf-6403cbf0e0be"
      },
      "outputs": [
        {
          "output_type": "stream",
          "name": "stdout",
          "text": [
            "InvoiceNo     C537379\n",
            "StockCode        POST\n",
            "Quantity       2880.0\n",
            "UnitPrice      940.87\n",
            "CustomerID    18239.0\n",
            "dtype: object\n"
          ]
        },
        {
          "output_type": "stream",
          "name": "stderr",
          "text": [
            "<ipython-input-77-ec783cd347b8>:1: FutureWarning: The default value of numeric_only in DataFrame.max is deprecated. In a future version, it will default to False. In addition, specifying 'numeric_only=None' is deprecated. Select only valid columns or specify the value of numeric_only to silence this warning.\n",
            "  print(data.max())\n"
          ]
        }
      ],
      "source": [
        "print(data.max())"
      ]
    },
    {
      "cell_type": "code",
      "execution_count": 78,
      "metadata": {
        "colab": {
          "base_uri": "https://localhost:8080/"
        },
        "id": "80xz994pMioC",
        "outputId": "b6f21062-4853-45f2-a053-e852a18aac1d"
      },
      "outputs": [
        {
          "output_type": "stream",
          "name": "stdout",
          "text": [
            "InvoiceNo      536365\n",
            "StockCode       10002\n",
            "Quantity      -9360.0\n",
            "UnitPrice         0.0\n",
            "CustomerID    12395.0\n",
            "dtype: object\n"
          ]
        },
        {
          "output_type": "stream",
          "name": "stderr",
          "text": [
            "<ipython-input-78-b0b7e999f9e3>:1: FutureWarning: The default value of numeric_only in DataFrame.min is deprecated. In a future version, it will default to False. In addition, specifying 'numeric_only=None' is deprecated. Select only valid columns or specify the value of numeric_only to silence this warning.\n",
            "  print(data.min())\n"
          ]
        }
      ],
      "source": [
        "print(data.min())"
      ]
    },
    {
      "cell_type": "code",
      "execution_count": 79,
      "metadata": {
        "colab": {
          "base_uri": "https://localhost:8080/"
        },
        "id": "LQ--fxv0MrX0",
        "outputId": "a4a506f6-47e7-4e1c-9ceb-4f3468d0aa0c"
      },
      "outputs": [
        {
          "output_type": "stream",
          "name": "stdout",
          "text": [
            "<class 'pandas.core.frame.DataFrame'>\n",
            "RangeIndex: 12462 entries, 0 to 12461\n",
            "Data columns (total 8 columns):\n",
            " #   Column       Non-Null Count  Dtype  \n",
            "---  ------       --------------  -----  \n",
            " 0   InvoiceNo    12462 non-null  object \n",
            " 1   StockCode    12462 non-null  object \n",
            " 2   Description  12417 non-null  object \n",
            " 3   Quantity     12461 non-null  float64\n",
            " 4   InvoiceDate  12461 non-null  object \n",
            " 5   UnitPrice    12461 non-null  float64\n",
            " 6   CustomerID   8956 non-null   float64\n",
            " 7   Country      12461 non-null  object \n",
            "dtypes: float64(3), object(5)\n",
            "memory usage: 779.0+ KB\n",
            "None\n"
          ]
        }
      ],
      "source": [
        "print(data.info())"
      ]
    },
    {
      "cell_type": "code",
      "execution_count": 80,
      "metadata": {
        "colab": {
          "base_uri": "https://localhost:8080/"
        },
        "id": "AO-oUcnENF7F",
        "outputId": "ac380487-394e-4f39-c6c6-52ca875b8805"
      },
      "outputs": [
        {
          "output_type": "stream",
          "name": "stdout",
          "text": [
            "0        17850.0\n",
            "1        17850.0\n",
            "2        17850.0\n",
            "3        17850.0\n",
            "4        17850.0\n",
            "          ...   \n",
            "12457    14667.0\n",
            "12458    14667.0\n",
            "12459    14667.0\n",
            "12460    14667.0\n",
            "12461        NaN\n",
            "Name: CustomerID, Length: 12462, dtype: float64\n"
          ]
        }
      ],
      "source": [
        "print(data.CustomerID)"
      ]
    },
    {
      "cell_type": "code",
      "execution_count": 81,
      "metadata": {
        "colab": {
          "base_uri": "https://localhost:8080/"
        },
        "id": "liq7GWwbNNGi",
        "outputId": "d91b03a3-73dc-48ef-b63a-0f050bbaac93"
      },
      "outputs": [
        {
          "output_type": "stream",
          "name": "stdout",
          "text": [
            "Quantity        93.885564\n",
            "UnitPrice       17.253932\n",
            "CustomerID    1748.194062\n",
            "dtype: float64\n"
          ]
        },
        {
          "output_type": "stream",
          "name": "stderr",
          "text": [
            "<ipython-input-81-a810e4c31d42>:1: FutureWarning: The default value of numeric_only in DataFrame.std is deprecated. In a future version, it will default to False. In addition, specifying 'numeric_only=None' is deprecated. Select only valid columns or specify the value of numeric_only to silence this warning.\n",
            "  print(data.std())\n"
          ]
        }
      ],
      "source": [
        "print(data.std())"
      ]
    },
    {
      "cell_type": "code",
      "execution_count": 82,
      "metadata": {
        "id": "d6s5hE8KNjmi",
        "colab": {
          "base_uri": "https://localhost:8080/"
        },
        "outputId": "89155540-12f3-4994-b9d2-f005121648b2"
      },
      "outputs": [
        {
          "output_type": "stream",
          "name": "stdout",
          "text": [
            "  InvoiceNo StockCode                    Description  Quantity  \\\n",
            "0    537237     22632  HAND WARMER SCOTTY DOG DESIGN       1.0   \n",
            "\n",
            "      InvoiceDate  UnitPrice  CustomerID         Country  \n",
            "0  12/6/2010 9:58       1.25     17850.0  United Kingdom  \n"
          ]
        }
      ],
      "source": [
        "print(data.mode())"
      ]
    },
    {
      "cell_type": "code",
      "source": [
        "print(data.median())"
      ],
      "metadata": {
        "colab": {
          "base_uri": "https://localhost:8080/"
        },
        "id": "sBJN0aMM6PGB",
        "outputId": "344ea5a1-e0e9-4229-8185-2b7242ce3c6b"
      },
      "execution_count": 83,
      "outputs": [
        {
          "output_type": "stream",
          "name": "stdout",
          "text": [
            "Quantity          2.00\n",
            "UnitPrice         2.51\n",
            "CustomerID    15646.00\n",
            "dtype: float64\n"
          ]
        },
        {
          "output_type": "stream",
          "name": "stderr",
          "text": [
            "<ipython-input-83-20599fdb1a86>:1: FutureWarning: The default value of numeric_only in DataFrame.median is deprecated. In a future version, it will default to False. In addition, specifying 'numeric_only=None' is deprecated. Select only valid columns or specify the value of numeric_only to silence this warning.\n",
            "  print(data.median())\n"
          ]
        }
      ]
    },
    {
      "cell_type": "code",
      "source": [
        "print(data.mean())"
      ],
      "metadata": {
        "colab": {
          "base_uri": "https://localhost:8080/"
        },
        "id": "QIuEeyMA5niu",
        "outputId": "5ae6187d-1560-4ab3-f0be-0d77982ae5ca"
      },
      "execution_count": 84,
      "outputs": [
        {
          "output_type": "stream",
          "name": "stdout",
          "text": [
            "Quantity          7.477249\n",
            "UnitPrice         3.973280\n",
            "CustomerID    15598.129299\n",
            "dtype: float64\n"
          ]
        },
        {
          "output_type": "stream",
          "name": "stderr",
          "text": [
            "<ipython-input-84-333c16b2968c>:1: FutureWarning: The default value of numeric_only in DataFrame.mean is deprecated. In a future version, it will default to False. In addition, specifying 'numeric_only=None' is deprecated. Select only valid columns or specify the value of numeric_only to silence this warning.\n",
            "  print(data.mean())\n"
          ]
        }
      ]
    },
    {
      "cell_type": "code",
      "source": [
        "print(data['Description'].value_counts())"
      ],
      "metadata": {
        "colab": {
          "base_uri": "https://localhost:8080/"
        },
        "id": "b4bXQBmq6bPz",
        "outputId": "ed2dcd44-de1e-4c63-e973-500780366898"
      },
      "execution_count": 85,
      "outputs": [
        {
          "output_type": "stream",
          "name": "stdout",
          "text": [
            "HAND WARMER SCOTTY DOG DESIGN         72\n",
            "HAND WARMER UNION JACK                71\n",
            "HAND WARMER OWL DESIGN                65\n",
            "WHITE HANGING HEART T-LIGHT HOLDER    64\n",
            "PAPER CHAIN KIT 50'S CHRISTMAS        62\n",
            "                                      ..\n",
            "LETTER \"C\" BLING KEY RING              1\n",
            "LETTER \"F\" BLING KEY RING              1\n",
            "LETTER \"I\" BLING KEY RING              1\n",
            "LETTER \"L\" BLING KEY RING              1\n",
            "CHRISTMAS RETRO                        1\n",
            "Name: Description, Length: 2136, dtype: int64\n"
          ]
        }
      ]
    },
    {
      "cell_type": "code",
      "source": [
        "print(data['UnitPrice'].value_counts())"
      ],
      "metadata": {
        "colab": {
          "base_uri": "https://localhost:8080/"
        },
        "id": "PZlDP2K26l5J",
        "outputId": "7ba984b5-a1f1-4d2b-f67c-701a040119fb"
      },
      "execution_count": 89,
      "outputs": [
        {
          "output_type": "stream",
          "name": "stdout",
          "text": [
            "1.25      1086\n",
            "0.85       929\n",
            "2.95       876\n",
            "2.10       769\n",
            "1.65       752\n",
            "          ... \n",
            "295.00       1\n",
            "40.00        1\n",
            "5.74         1\n",
            "51.02        1\n",
            "15.95        1\n",
            "Name: UnitPrice, Length: 164, dtype: int64\n"
          ]
        }
      ]
    },
    {
      "cell_type": "code",
      "source": [
        "print(data.iloc[0:4,1:5])"
      ],
      "metadata": {
        "colab": {
          "base_uri": "https://localhost:8080/"
        },
        "id": "e7CZlkV_6zLH",
        "outputId": "65cc301e-e739-4d5e-c99f-ca8e48ccfe9e"
      },
      "execution_count": 90,
      "outputs": [
        {
          "output_type": "stream",
          "name": "stdout",
          "text": [
            "  StockCode                          Description  Quantity     InvoiceDate\n",
            "0    85123A   WHITE HANGING HEART T-LIGHT HOLDER       6.0  12/1/2010 8:26\n",
            "1     71053                  WHITE METAL LANTERN       6.0  12/1/2010 8:26\n",
            "2    84406B       CREAM CUPID HEARTS COAT HANGER       8.0  12/1/2010 8:26\n",
            "3    84029G  KNITTED UNION FLAG HOT WATER BOTTLE       6.0  12/1/2010 8:26\n"
          ]
        }
      ]
    },
    {
      "cell_type": "code",
      "source": [
        "print(data.sort_values(by=\"InvoiceNo\",ascending=True))"
      ],
      "metadata": {
        "colab": {
          "base_uri": "https://localhost:8080/"
        },
        "id": "OAk9aLJ_6-rk",
        "outputId": "d8518126-6720-4d51-ab3c-7d2c8ca8505c"
      },
      "execution_count": 91,
      "outputs": [
        {
          "output_type": "stream",
          "name": "stdout",
          "text": [
            "      InvoiceNo StockCode                          Description  Quantity  \\\n",
            "0        536365    85123A   WHITE HANGING HEART T-LIGHT HOLDER       6.0   \n",
            "1        536365     71053                  WHITE METAL LANTERN       6.0   \n",
            "2        536365    84406B       CREAM CUPID HEARTS COAT HANGER       8.0   \n",
            "3        536365    84029G  KNITTED UNION FLAG HOT WATER BOTTLE       6.0   \n",
            "4        536365    84029E       RED WOOLLY HOTTIE WHITE HEART.       6.0   \n",
            "...         ...       ...                                  ...       ...   \n",
            "11799   C537314     21349                     IVY HEART WREATH      -4.0   \n",
            "11800   C537320     35400          WOODEN BOX ADVENT CALENDAR       -1.0   \n",
            "11813   C537333     22636   CHILDS BREAKFAST SET CIRCUS PARADE      -4.0   \n",
            "12402   C537373     22423             REGENCY CAKESTAND 3 TIER      -1.0   \n",
            "12455   C537379     22865               HAND WARMER OWL DESIGN     -10.0   \n",
            "\n",
            "           InvoiceDate  UnitPrice  CustomerID         Country  \n",
            "0       12/1/2010 8:26       2.55     17850.0  United Kingdom  \n",
            "1       12/1/2010 8:26       3.39     17850.0  United Kingdom  \n",
            "2       12/1/2010 8:26       2.75     17850.0  United Kingdom  \n",
            "3       12/1/2010 8:26       3.39     17850.0  United Kingdom  \n",
            "4       12/1/2010 8:26       3.39     17850.0  United Kingdom  \n",
            "...                ...        ...         ...             ...  \n",
            "11799  12/6/2010 11:42       6.75     13497.0  United Kingdom  \n",
            "11800  12/6/2010 11:47       8.95     14867.0  United Kingdom  \n",
            "11813  12/6/2010 12:00       8.50     12474.0         Germany  \n",
            "12402  12/6/2010 12:55      12.75     14487.0  United Kingdom  \n",
            "12455  12/6/2010 13:12       2.10     15882.0  United Kingdom  \n",
            "\n",
            "[12462 rows x 8 columns]\n"
          ]
        }
      ]
    },
    {
      "cell_type": "code",
      "source": [
        "print(data.sort_values(by=\"StockCode\",ascending=False))"
      ],
      "metadata": {
        "colab": {
          "base_uri": "https://localhost:8080/"
        },
        "id": "x6PPQcZH7qXP",
        "outputId": "4a4f1f47-075e-4ebe-b2fc-841213fd5087"
      },
      "execution_count": 92,
      "outputs": [
        {
          "output_type": "stream",
          "name": "stdout",
          "text": [
            "      InvoiceNo StockCode                  Description  Quantity  \\\n",
            "45       536370      POST                      POSTAGE       3.0   \n",
            "11501    537250      POST                      POSTAGE       1.0   \n",
            "6602     536967      POST                      POSTAGE       1.0   \n",
            "7237     537022      POST                      POSTAGE       2.0   \n",
            "386      536403      POST                      POSTAGE       1.0   \n",
            "...         ...       ...                          ...       ...   \n",
            "7598     537047     10002  INFLATABLE POLITICAL GLOBE        1.0   \n",
            "4272     536756     10002  INFLATABLE POLITICAL GLOBE        1.0   \n",
            "6166     536876     10002  INFLATABLE POLITICAL GLOBE        2.0   \n",
            "5546     536865     10002  INFLATABLE POLITICAL GLOBE        5.0   \n",
            "5466     536863     10002  INFLATABLE POLITICAL GLOBE        1.0   \n",
            "\n",
            "           InvoiceDate  UnitPrice  CustomerID         Country  \n",
            "45      12/1/2010 8:45      18.00     12583.0          France  \n",
            "11501  12/6/2010 10:43      18.00     12708.0         Germany  \n",
            "6602   12/3/2010 12:57      18.00     12600.0         Germany  \n",
            "7237   12/3/2010 15:45      28.00     12725.0           Italy  \n",
            "386    12/1/2010 11:27      15.00     12791.0     Netherlands  \n",
            "...                ...        ...         ...             ...  \n",
            "7598   12/5/2010 11:02       0.85     13069.0  United Kingdom  \n",
            "4272   12/2/2010 14:23       0.85         NaN  United Kingdom  \n",
            "6166   12/3/2010 11:36       1.66         NaN  United Kingdom  \n",
            "5546   12/3/2010 11:28       1.66         NaN  United Kingdom  \n",
            "5466   12/3/2010 11:19       0.85     17967.0  United Kingdom  \n",
            "\n",
            "[12462 rows x 8 columns]\n"
          ]
        }
      ]
    },
    {
      "cell_type": "code",
      "source": [
        "print(data.drop('CustomerID',axis=1))"
      ],
      "metadata": {
        "colab": {
          "base_uri": "https://localhost:8080/"
        },
        "id": "nwIm9Sxr8Du-",
        "outputId": "d2c54f2a-868c-49fd-cd9c-6032ac985ad6"
      },
      "execution_count": 93,
      "outputs": [
        {
          "output_type": "stream",
          "name": "stdout",
          "text": [
            "      InvoiceNo StockCode                          Description  Quantity  \\\n",
            "0        536365    85123A   WHITE HANGING HEART T-LIGHT HOLDER       6.0   \n",
            "1        536365     71053                  WHITE METAL LANTERN       6.0   \n",
            "2        536365    84406B       CREAM CUPID HEARTS COAT HANGER       8.0   \n",
            "3        536365    84029G  KNITTED UNION FLAG HOT WATER BOTTLE       6.0   \n",
            "4        536365    84029E       RED WOOLLY HOTTIE WHITE HEART.       6.0   \n",
            "...         ...       ...                                  ...       ...   \n",
            "12457    537381     22632            HAND WARMER RED RETROSPOT      24.0   \n",
            "12458    537381     22633               HAND WARMER UNION JACK      20.0   \n",
            "12459    537381     22867              HAND WARMER BIRD DESIGN      24.0   \n",
            "12460    537381     22601       CHRISTMAS RETROSPOT ANGEL WOOD      17.0   \n",
            "12461    537381     22603                      CHRISTMAS RETRO       NaN   \n",
            "\n",
            "           InvoiceDate  UnitPrice         Country  \n",
            "0       12/1/2010 8:26       2.55  United Kingdom  \n",
            "1       12/1/2010 8:26       3.39  United Kingdom  \n",
            "2       12/1/2010 8:26       2.75  United Kingdom  \n",
            "3       12/1/2010 8:26       3.39  United Kingdom  \n",
            "4       12/1/2010 8:26       3.39  United Kingdom  \n",
            "...                ...        ...             ...  \n",
            "12457  12/6/2010 13:13       2.10  United Kingdom  \n",
            "12458  12/6/2010 13:13       2.10  United Kingdom  \n",
            "12459  12/6/2010 13:13       2.10  United Kingdom  \n",
            "12460  12/6/2010 13:13       0.85  United Kingdom  \n",
            "12461              NaN        NaN             NaN  \n",
            "\n",
            "[12462 rows x 7 columns]\n"
          ]
        }
      ]
    },
    {
      "cell_type": "markdown",
      "source": [
        "Data Visualization"
      ],
      "metadata": {
        "id": "FoWcCZnw8myR"
      }
    },
    {
      "cell_type": "code",
      "source": [
        "plt.scatter(data['InvoiceNo'],data['UnitPrice'],color='y')\n",
        "plt.xlabel('InvoiceNo')\n",
        "plt.ylabel('UnitPrice')\n",
        "plt.title('Scatter Plot')\n",
        "print(plt.show())"
      ],
      "metadata": {
        "colab": {
          "base_uri": "https://localhost:8080/",
          "height": 489
        },
        "id": "kYijfO8X83oq",
        "outputId": "e700ecd9-46ca-4ce3-a920-19587b75acb6"
      },
      "execution_count": null,
      "outputs": [
        {
          "output_type": "display_data",
          "data": {
            "text/plain": [
              "<Figure size 640x480 with 1 Axes>"
            ],
            "image/png": "[encoded data removed]"
          },
          "metadata": {}
        },
        {
          "output_type": "stream",
          "name": "stdout",
          "text": [
            "None\n"
          ]
        }
      ]
    },
    {
      "cell_type": "code",
      "source": [
        "plt.hist(data['CustomerID'],color='g')\n",
        "plt.title('Histogram')\n",
        "print(plt.show())"
      ],
      "metadata": {
        "colab": {
          "base_uri": "https://localhost:8080/",
          "height": 469
        },
        "id": "FsJsXhhN--Yd",
        "outputId": "8e68391a-28c0-46a4-e117-467e33fc8e36"
      },
      "execution_count": 94,
      "outputs": [
        {
          "output_type": "display_data",
          "data": {
            "text/plain": [
              "<Figure size 640x480 with 1 Axes>"
            ],
            "image/png": "[encoded data removed]"
          },
          "metadata": {}
        },
        {
          "output_type": "stream",
          "name": "stdout",
          "text": [
            "None\n"
          ]
        }
      ]
    },
    {
      "cell_type": "code",
      "source": [
        "plt.bar(data['CustomerID'],data['InvoiceNo'],color='brown')\n",
        "plt.xlabel('CustomerID')\n",
        "plt.ylabel('InvoiceNo')\n",
        "plt.title('Barr plot')\n",
        "print(plt.show())"
      ],
      "metadata": {
        "colab": {
          "base_uri": "https://localhost:8080/",
          "height": 489
        },
        "id": "dG68faE6AwW-",
        "outputId": "d34f74ed-4d31-47a4-effc-1489b8af2b9b"
      },
      "execution_count": null,
      "outputs": [
        {
          "output_type": "display_data",
          "data": {
            "text/plain": [
              "<Figure size 640x480 with 1 Axes>"
            ],
            "image/png": "[encoded data removed]"
          },
          "metadata": {}
        },
        {
          "output_type": "stream",
          "name": "stdout",
          "text": [
            "None\n"
          ]
        }
      ]
    },
    {
      "cell_type": "code",
      "source": [
        "sns.lineplot(data['UnitPrice'],color='b')\n",
        "plt.title('Lineplot')\n",
        "print(plt.show())"
      ],
      "metadata": {
        "id": "s1Uz2aIkBZKn",
        "colab": {
          "base_uri": "https://localhost:8080/",
          "height": 469
        },
        "outputId": "2ef2996f-0390-43f2-8e55-a8dbcb340b03"
      },
      "execution_count": 71,
      "outputs": [
        {
          "output_type": "display_data",
          "data": {
            "text/plain": [
              "<Figure size 640x480 with 1 Axes>"
            ],
            "image/png": "[encoded data removed]"
          },
          "metadata": {}
        },
        {
          "output_type": "stream",
          "name": "stdout",
          "text": [
            "None\n"
          ]
        }
      ]
    },
    {
      "cell_type": "code",
      "source": [
        "sns.boxplot(data['CustomerID'],color='grey')\n",
        "plt.title('Boxplot')\n",
        "print(plt.show())"
      ],
      "metadata": {
        "id": "I_3G6wJManci",
        "colab": {
          "base_uri": "https://localhost:8080/",
          "height": 469
        },
        "outputId": "988cfbc8-3a49-489c-e8a8-3276ac8cb4cf"
      },
      "execution_count": 72,
      "outputs": [
        {
          "output_type": "display_data",
          "data": {
            "text/plain": [
              "<Figure size 640x480 with 1 Axes>"
            ],
            "image/png": "[encoded data removed]"
          },
          "metadata": {}
        },
        {
          "output_type": "stream",
          "name": "stdout",
          "text": [
            "None\n"
          ]
        }
      ]
    },
    {
      "cell_type": "code",
      "source": [],
      "metadata": {
        "id": "bepLYlkzr1pN"
      },
      "execution_count": null,
      "outputs": []
    }
  ],
  "metadata": {
    "colab": {
      "provenance": [],
      "authorship_tag": "ABX9TyPgS9X1UKF7KyptkZKdLuA9",
      "include_colab_link": true
    },
    "kernelspec": {
      "display_name": "Python 3",
      "name": "python3"
    },
    "language_info": {
      "name": "python"
    }
  },
  "nbformat": 4,
  "nbformat_minor": 0
}