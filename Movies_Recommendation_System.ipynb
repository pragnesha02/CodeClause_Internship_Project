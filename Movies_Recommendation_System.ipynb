{
  "cells": [
    {
      "cell_type": "markdown",
      "metadata": {
        "id": "view-in-github",
        "colab_type": "text"
      },
      "source": [
        "<a href=\"https://colab.research.google.com/github/pragnesha02/Creditcard_Fraud_Detection/blob/main/Movies_Recommendation_System.ipynb\" target=\"_parent\"><img src=\"https://colab.research.google.com/assets/colab-badge.svg\" alt=\"Open In Colab\"/></a>"
      ]
    },
    {
      "cell_type": "markdown",
      "metadata": {
        "id": "9omlrXd9qQId"
      },
      "source": [
        "Movies Recommendation System"
      ]
    },
    {
      "cell_type": "markdown",
      "metadata": {
        "id": "U1AbYNu7qcOb"
      },
      "source": [
        "Import Dataset and laibraries"
      ]
    },
    {
      "cell_type": "code",
      "execution_count": null,
      "metadata": {
        "id": "Eq02GcPfqL3a"
      },
      "outputs": [],
      "source": [
        "import pandas as pd\n",
        "import numpy as np\n",
        "import matplotlib.pyplot as plt\n",
        "import seaborn as sns"
      ]
    },
    {
      "cell_type": "code",
      "execution_count": null,
      "metadata": {
        "id": "SMoaQ3W2qbEt"
      },
      "outputs": [],
      "source": [
        "data=pd.read_csv('movies_metadata.csv')"
      ]
    },
    {
      "cell_type": "code",
      "execution_count": null,
      "metadata": {
        "colab": {
          "base_uri": "https://localhost:8080/"
        },
        "id": "khbxxXP1tzhT",
        "outputId": "a45d0194-3bd4-42f8-f0e6-e5130373191d"
      },
      "outputs": [
        {
          "output_type": "stream",
          "name": "stdout",
          "text": [
            "   adult                              belongs_to_collection    budget  \\\n",
            "0  False  {'id': 10194, 'name': 'Toy Story Collection', ...  30000000   \n",
            "1  False                                                NaN  65000000   \n",
            "2  False  {'id': 119050, 'name': 'Grumpy Old Men Collect...         0   \n",
            "3  False                                                NaN  16000000   \n",
            "4  False  {'id': 96871, 'name': 'Father of the Bride Col...         0   \n",
            "\n",
            "                                              genres  \\\n",
            "0  [{'id': 16, 'name': 'Animation'}, {'id': 35, '...   \n",
            "1  [{'id': 12, 'name': 'Adventure'}, {'id': 14, '...   \n",
            "2  [{'id': 10749, 'name': 'Romance'}, {'id': 35, ...   \n",
            "3  [{'id': 35, 'name': 'Comedy'}, {'id': 18, 'nam...   \n",
            "4                     [{'id': 35, 'name': 'Comedy'}]   \n",
            "\n",
            "                               homepage     id    imdb_id original_language  \\\n",
            "0  http://toystory.disney.com/toy-story    862  tt0114709                en   \n",
            "1                                   NaN   8844  tt0113497                en   \n",
            "2                                   NaN  15602  tt0113228                en   \n",
            "3                                   NaN  31357  tt0114885                en   \n",
            "4                                   NaN  11862  tt0113041                en   \n",
            "\n",
            "                original_title  \\\n",
            "0                    Toy Story   \n",
            "1                      Jumanji   \n",
            "2             Grumpier Old Men   \n",
            "3            Waiting to Exhale   \n",
            "4  Father of the Bride Part II   \n",
            "\n",
            "                                            overview  ...  release_date  \\\n",
            "0  Led by Woody, Andy's toys live happily in his ...  ...    10/30/1995   \n",
            "1  When siblings Judy and Peter discover an encha...  ...    12/15/1995   \n",
            "2  A family wedding reignites the ancient feud be...  ...    12/22/1995   \n",
            "3  Cheated on, mistreated and stepped on, the wom...  ...    12/22/1995   \n",
            "4  Just when George Banks has recovered from his ...  ...     2/10/1995   \n",
            "\n",
            "     revenue runtime                                   spoken_languages  \\\n",
            "0  373554033    81.0           [{'iso_639_1': 'en', 'name': 'English'}]   \n",
            "1  262797249   104.0  [{'iso_639_1': 'en', 'name': 'English'}, {'iso...   \n",
            "2          0   101.0           [{'iso_639_1': 'en', 'name': 'English'}]   \n",
            "3   81452156   127.0           [{'iso_639_1': 'en', 'name': 'English'}]   \n",
            "4   76578911   106.0           [{'iso_639_1': 'en', 'name': 'English'}]   \n",
            "\n",
            "     status                                            tagline  \\\n",
            "0  Released                                                NaN   \n",
            "1  Released          Roll the dice and unleash the excitement!   \n",
            "2  Released  Still Yelling. Still Fighting. Still Ready for...   \n",
            "3  Released  Friends are the people who let you be yourself...   \n",
            "4  Released  Just When His World Is Back To Normal... He's ...   \n",
            "\n",
            "                         title  video vote_average vote_count  \n",
            "0                    Toy Story  False          7.7     5415.0  \n",
            "1                      Jumanji  False          6.9     2413.0  \n",
            "2             Grumpier Old Men  False          6.5       92.0  \n",
            "3            Waiting to Exhale  False          6.1       34.0  \n",
            "4  Father of the Bride Part II  False          5.7      173.0  \n",
            "\n",
            "[5 rows x 24 columns]\n"
          ]
        }
      ],
      "source": [
        "print(data.head())"
      ]
    },
    {
      "cell_type": "code",
      "execution_count": null,
      "metadata": {
        "colab": {
          "base_uri": "https://localhost:8080/"
        },
        "id": "ib-qAG7MuYoO",
        "outputId": "f3915be0-866a-43e1-fa82-ed34cd40baba"
      },
      "outputs": [
        {
          "output_type": "stream",
          "name": "stdout",
          "text": [
            "(2536, 24)\n"
          ]
        }
      ],
      "source": [
        "print(data.shape)"
      ]
    },
    {
      "cell_type": "code",
      "execution_count": null,
      "metadata": {
        "colab": {
          "base_uri": "https://localhost:8080/"
        },
        "id": "fWXBqaIku1Dz",
        "outputId": "133d0add-0c51-4c6e-c68c-d86d5055b03b"
      },
      "outputs": [
        {
          "output_type": "stream",
          "name": "stdout",
          "text": [
            "             budget             id   popularity       revenue      runtime  \\\n",
            "count  2.536000e+03    2536.000000  2536.000000  2.536000e+03  2530.000000   \n",
            "mean   1.083061e+07   33535.159306     6.332303  3.537670e+07   104.177866   \n",
            "std    2.081388e+07   54131.670108     6.290004  9.433559e+07    23.665589   \n",
            "min    0.000000e+00       5.000000     0.000082  0.000000e+00     0.000000   \n",
            "25%    0.000000e+00    8817.500000     1.637944  0.000000e+00    92.000000   \n",
            "50%    0.000000e+00   12633.500000     5.577540  0.000000e+00   102.000000   \n",
            "75%    1.300000e+07   37253.250000     9.443145  2.329459e+07   115.000000   \n",
            "max    2.000000e+08  445590.000000   140.950236  1.845034e+09   287.000000   \n",
            "\n",
            "       vote_average   vote_count  \n",
            "count   2535.000000  2535.000000  \n",
            "mean       6.065128   308.508481  \n",
            "std        1.581927   760.818179  \n",
            "min        0.000000     0.000000  \n",
            "25%        5.600000    12.500000  \n",
            "50%        6.300000    60.000000  \n",
            "75%        7.000000   244.500000  \n",
            "max       10.000000  9079.000000  \n"
          ]
        }
      ],
      "source": [
        "print(data.describe())"
      ]
    },
    {
      "cell_type": "code",
      "execution_count": null,
      "metadata": {
        "colab": {
          "base_uri": "https://localhost:8080/"
        },
        "id": "l8GRB6l9AStc",
        "outputId": "d16f34cf-2f0e-4612-d8e7-2db2fabd7cd2"
      },
      "outputs": [
        {
          "output_type": "stream",
          "name": "stdout",
          "text": [
            "      adult                              belongs_to_collection  budget  \\\n",
            "2531  False  {'id': 221539, 'name': 'Dracula (Universal Ser...       0   \n",
            "2532  False  {'id': 218406, 'name': 'Frankenstein (Universa...       0   \n",
            "2533  False  {'id': 218406, 'name': 'Frankenstein (Universa...  291000   \n",
            "2534  False  {'id': 218406, 'name': 'Frankenstein (Universa...       0   \n",
            "2535  False  {'id': 218406, 'name': 'Frankenstein (Universa...       0   \n",
            "\n",
            "                                                 genres homepage     id  \\\n",
            "2531  [{'id': 27, 'name': 'Horror'}, {'id': 878, 'na...      NaN  30793   \n",
            "2532  [{'id': 14, 'name': 'Fantasy'}, {'id': 27, 'na...      NaN   3103   \n",
            "2533  [{'id': 18, 'name': 'Drama'}, {'id': 27, 'name...      NaN   3035   \n",
            "2534  [{'id': 27, 'name': 'Horror'}, {'id': 878, 'na...      NaN   3077   \n",
            "2535  [{'id': 14, 'name': 'Fantasy'}, {'id': 27, 'na...      NaN   3074   \n",
            "\n",
            "        imdb_id original_language             original_title  \\\n",
            "2531  tt0037793                en           House of Dracula   \n",
            "2532  tt0036931                en      House of Frankenstein   \n",
            "2533  tt0021884                en               Frankenstein   \n",
            "2534  tt0031951                en        Son of Frankenstein   \n",
            "2535  tt0034786                en  The Ghost of Frankenstein   \n",
            "\n",
            "                                               overview  ...  release_date  \\\n",
            "2531  A scientist working on cures for rare afflicti...  ...     12/6/1945   \n",
            "2532  An evil scientist and a hunchback escape from ...  ...     12/1/1944   \n",
            "2533  Henry Frankenstein is a doctor who is trying t...  ...    11/21/1931   \n",
            "2534  Wolf Frankenstein, son of Henry Frankenstein, ...  ...     1/13/1939   \n",
            "2535  Ygor discovers Frankenstein's creation is stil...  ...     3/13/1942   \n",
            "\n",
            "       revenue runtime                                   spoken_languages  \\\n",
            "2531         0    67.0           [{'iso_639_1': 'en', 'name': 'English'}]   \n",
            "2532         0    71.0  [{'iso_639_1': 'en', 'name': 'English'}, {'iso...   \n",
            "2533  12000000    71.0           [{'iso_639_1': 'en', 'name': 'English'}]   \n",
            "2534         0    99.0           [{'iso_639_1': 'en', 'name': 'English'}]   \n",
            "2535         0    67.0           [{'iso_639_1': 'en', 'name': 'English'}]   \n",
            "\n",
            "        status                                            tagline  \\\n",
            "2531  Released         HORROR UPON HORROR in the HOUSE OF DRACULA   \n",
            "2532  Released  All the Screen's Titans of Terror - Together i...   \n",
            "2533  Released                        The man who made a monster.   \n",
            "2534  Released  The black shadows of the past bred this half-m...   \n",
            "2535  Released                                   All new THRILLS!   \n",
            "\n",
            "                      title  video vote_average vote_count  \n",
            "2531       House of Dracula  False          5.8       20.0  \n",
            "2532  House of Frankenstein  False          6.2       30.0  \n",
            "2533           Frankenstein  False          7.3      295.0  \n",
            "2534    Son of Frankenstein  False          7.0       42.0  \n",
            "2535                  The G    NaN          NaN        NaN  \n",
            "\n",
            "[5 rows x 24 columns]\n"
          ]
        }
      ],
      "source": [
        "print(data.tail())"
      ]
    },
    {
      "cell_type": "code",
      "execution_count": null,
      "metadata": {
        "colab": {
          "base_uri": "https://localhost:8080/"
        },
        "id": "QU8Oy5GsAfDC",
        "outputId": "8d612dd3-93f8-4c31-81df-509371a0e177"
      },
      "outputs": [
        {
          "output_type": "stream",
          "name": "stdout",
          "text": [
            "adult           0.000000e+00\n",
            "budget          1.083061e+07\n",
            "id              3.353516e+04\n",
            "popularity      6.332303e+00\n",
            "revenue         3.537670e+07\n",
            "runtime         1.041779e+02\n",
            "video           0.000000e+00\n",
            "vote_average    6.065128e+00\n",
            "vote_count      3.085085e+02\n",
            "dtype: float64\n"
          ]
        },
        {
          "output_type": "stream",
          "name": "stderr",
          "text": [
            "<ipython-input-162-333c16b2968c>:1: FutureWarning: The default value of numeric_only in DataFrame.mean is deprecated. In a future version, it will default to False. In addition, specifying 'numeric_only=None' is deprecated. Select only valid columns or specify the value of numeric_only to silence this warning.\n",
            "  print(data.mean())\n"
          ]
        }
      ],
      "source": [
        "print(data.mean())"
      ]
    },
    {
      "cell_type": "code",
      "execution_count": null,
      "metadata": {
        "colab": {
          "base_uri": "https://localhost:8080/"
        },
        "id": "Yh8cTAJyAka9",
        "outputId": "6a18796a-594b-4209-846c-488d9b09dff6"
      },
      "outputs": [
        {
          "output_type": "stream",
          "name": "stdout",
          "text": [
            "adult           0.000000e+00\n",
            "budget          2.081388e+07\n",
            "id              5.413167e+04\n",
            "popularity      6.290004e+00\n",
            "revenue         9.433559e+07\n",
            "runtime         2.366559e+01\n",
            "video           0.000000e+00\n",
            "vote_average    1.581927e+00\n",
            "vote_count      7.608182e+02\n",
            "dtype: float64\n"
          ]
        },
        {
          "output_type": "stream",
          "name": "stderr",
          "text": [
            "<ipython-input-163-a810e4c31d42>:1: FutureWarning: The default value of numeric_only in DataFrame.std is deprecated. In a future version, it will default to False. In addition, specifying 'numeric_only=None' is deprecated. Select only valid columns or specify the value of numeric_only to silence this warning.\n",
            "  print(data.std())\n"
          ]
        }
      ],
      "source": [
        "print(data.std())"
      ]
    },
    {
      "cell_type": "code",
      "execution_count": null,
      "metadata": {
        "colab": {
          "base_uri": "https://localhost:8080/"
        },
        "id": "EgM5pbNfBCpW",
        "outputId": "fbf75648-fa2d-4c14-d88a-6dedaac04746"
      },
      "outputs": [
        {
          "output_type": "stream",
          "name": "stdout",
          "text": [
            "   adult                              belongs_to_collection  budget  \\\n",
            "0  False  {'id': 9735, 'name': 'Friday the 13th Collecti...     0.0   \n",
            "1    NaN                                                NaN     NaN   \n",
            "2    NaN                                                NaN     NaN   \n",
            "3    NaN                                                NaN     NaN   \n",
            "\n",
            "                          genres                     homepage        id  \\\n",
            "0  [{'id': 18, 'name': 'Drama'}]  http://www.indianajones.com  105045.0   \n",
            "1                            NaN                          NaN       NaN   \n",
            "2                            NaN                          NaN       NaN   \n",
            "3                            NaN                          NaN       NaN   \n",
            "\n",
            "     imdb_id original_language original_title            overview  ...  \\\n",
            "0  tt0111613                en      The Mummy  No overview found.  ...   \n",
            "1        NaN               NaN            NaN                 NaN  ...   \n",
            "2        NaN               NaN            NaN                 NaN  ...   \n",
            "3        NaN               NaN            NaN                 NaN  ...   \n",
            "\n",
            "   release_date revenue runtime                          spoken_languages  \\\n",
            "0      1/1/1995     0.0   100.0  [{'iso_639_1': 'en', 'name': 'English'}]   \n",
            "1           NaN     NaN     NaN                                       NaN   \n",
            "2           NaN     NaN     NaN                                       NaN   \n",
            "3           NaN     NaN     NaN                                       NaN   \n",
            "\n",
            "     status                                            tagline      title  \\\n",
            "0  Released                            A love, a hope, a wall.  The Mummy   \n",
            "1       NaN                             Based on a true story.        NaN   \n",
            "2       NaN                     No one stays innocent forever.        NaN   \n",
            "3       NaN  Touched by Genius. Cursed by Madness. Blinded ...        NaN   \n",
            "\n",
            "   video vote_average vote_count  \n",
            "0  False          6.0        0.0  \n",
            "1    NaN          NaN        NaN  \n",
            "2    NaN          NaN        NaN  \n",
            "3    NaN          NaN        NaN  \n",
            "\n",
            "[4 rows x 24 columns]\n"
          ]
        }
      ],
      "source": [
        "print(data.mode())"
      ]
    },
    {
      "cell_type": "code",
      "execution_count": null,
      "metadata": {
        "colab": {
          "base_uri": "https://localhost:8080/"
        },
        "id": "vpPNhr_OBQmq",
        "outputId": "b2592134-e5f9-43bb-c970-507692c0eca1"
      },
      "outputs": [
        {
          "output_type": "stream",
          "name": "stdout",
          "text": [
            "adult               0.00000\n",
            "budget              0.00000\n",
            "id              12633.50000\n",
            "popularity          5.57754\n",
            "revenue             0.00000\n",
            "runtime           102.00000\n",
            "video               0.00000\n",
            "vote_average        6.30000\n",
            "vote_count         60.00000\n",
            "dtype: float64\n"
          ]
        },
        {
          "output_type": "stream",
          "name": "stderr",
          "text": [
            "<ipython-input-165-20599fdb1a86>:1: FutureWarning: The default value of numeric_only in DataFrame.median is deprecated. In a future version, it will default to False. In addition, specifying 'numeric_only=None' is deprecated. Select only valid columns or specify the value of numeric_only to silence this warning.\n",
            "  print(data.median())\n"
          ]
        }
      ],
      "source": [
        "print(data.median())"
      ]
    },
    {
      "cell_type": "markdown",
      "source": [
        "Dataset Information"
      ],
      "metadata": {
        "id": "PCop9oZ0gmr7"
      }
    },
    {
      "cell_type": "code",
      "execution_count": null,
      "metadata": {
        "colab": {
          "base_uri": "https://localhost:8080/"
        },
        "id": "53P7sr3WBXOI",
        "outputId": "f7e4dd0b-2636-47f8-d301-a3707e510420"
      },
      "outputs": [
        {
          "output_type": "stream",
          "name": "stdout",
          "text": [
            "<class 'pandas.core.frame.DataFrame'>\n",
            "RangeIndex: 2536 entries, 0 to 2535\n",
            "Data columns (total 24 columns):\n",
            " #   Column                 Non-Null Count  Dtype  \n",
            "---  ------                 --------------  -----  \n",
            " 0   adult                  2536 non-null   bool   \n",
            " 1   belongs_to_collection  437 non-null    object \n",
            " 2   budget                 2536 non-null   int64  \n",
            " 3   genres                 2536 non-null   object \n",
            " 4   homepage               153 non-null    object \n",
            " 5   id                     2536 non-null   int64  \n",
            " 6   imdb_id                2536 non-null   object \n",
            " 7   original_language      2536 non-null   object \n",
            " 8   original_title         2536 non-null   object \n",
            " 9   overview               2518 non-null   object \n",
            " 10  popularity             2536 non-null   float64\n",
            " 11  poster_path            2522 non-null   object \n",
            " 12  production_companies   2536 non-null   object \n",
            " 13  production_countries   2536 non-null   object \n",
            " 14  release_date           2534 non-null   object \n",
            " 15  revenue                2536 non-null   int64  \n",
            " 16  runtime                2530 non-null   float64\n",
            " 17  spoken_languages       2536 non-null   object \n",
            " 18  status                 2532 non-null   object \n",
            " 19  tagline                1941 non-null   object \n",
            " 20  title                  2536 non-null   object \n",
            " 21  video                  2535 non-null   object \n",
            " 22  vote_average           2535 non-null   float64\n",
            " 23  vote_count             2535 non-null   float64\n",
            "dtypes: bool(1), float64(4), int64(3), object(16)\n",
            "memory usage: 458.3+ KB\n",
            "None\n"
          ]
        }
      ],
      "source": [
        "print(data.info())"
      ]
    },
    {
      "cell_type": "code",
      "execution_count": null,
      "metadata": {
        "colab": {
          "base_uri": "https://localhost:8080/"
        },
        "id": "qcI64IX-Brk5",
        "outputId": "00196112-a6d2-4847-9afb-2e70813c77dd"
      },
      "outputs": [
        {
          "output_type": "stream",
          "name": "stdout",
          "text": [
            "Index(['adult', 'belongs_to_collection', 'budget', 'genres', 'homepage', 'id',\n",
            "       'imdb_id', 'original_language', 'original_title', 'overview',\n",
            "       'popularity', 'poster_path', 'production_companies',\n",
            "       'production_countries', 'release_date', 'revenue', 'runtime',\n",
            "       'spoken_languages', 'status', 'tagline', 'title', 'video',\n",
            "       'vote_average', 'vote_count'],\n",
            "      dtype='object')\n"
          ]
        }
      ],
      "source": [
        "print(data.columns)"
      ]
    },
    {
      "cell_type": "code",
      "execution_count": null,
      "metadata": {
        "colab": {
          "base_uri": "https://localhost:8080/"
        },
        "id": "8VarteTaBwiB",
        "outputId": "0b279868-0cd7-4be8-e0c4-e2fbcb9010c5"
      },
      "outputs": [
        {
          "output_type": "stream",
          "name": "stdout",
          "text": [
            "adult                                                                   0\n",
            "budget                                                        27466415423\n",
            "genres                  [{'id': 16, 'name': 'Animation'}, {'id': 35, '...\n",
            "id                                                               85045164\n",
            "imdb_id                 tt0114709tt0113497tt0113228tt0114885tt0113041t...\n",
            "original_language       enenenenenenenenenenenenenenenenenenenenenenen...\n",
            "original_title          Toy StoryJumanjiGrumpier Old MenWaiting to Exh...\n",
            "popularity                                                   16058.720393\n",
            "production_companies    [{'name': 'Pixar Animation Studios', 'id': 3}]...\n",
            "production_countries    [{'iso_3166_1': 'US', 'name': 'United States o...\n",
            "revenue                                                       89715307150\n",
            "runtime                                                          263570.0\n",
            "spoken_languages        [{'iso_639_1': 'en', 'name': 'English'}][{'iso...\n",
            "title                   Toy StoryJumanjiGrumpier Old MenWaiting to Exh...\n",
            "video                                                                   0\n",
            "vote_average                                                      15375.1\n",
            "vote_count                                                       782069.0\n",
            "dtype: object\n"
          ]
        },
        {
          "output_type": "stream",
          "name": "stderr",
          "text": [
            "<ipython-input-168-28d7ffe0f464>:1: FutureWarning: The default value of numeric_only in DataFrame.sum is deprecated. In a future version, it will default to False. In addition, specifying 'numeric_only=None' is deprecated. Select only valid columns or specify the value of numeric_only to silence this warning.\n",
            "  print(data.sum())\n"
          ]
        }
      ],
      "source": [
        "print(data.sum())"
      ]
    },
    {
      "cell_type": "code",
      "execution_count": null,
      "metadata": {
        "colab": {
          "base_uri": "https://localhost:8080/"
        },
        "id": "fSnSJnrWB-vX",
        "outputId": "2db02c36-2a96-496c-8875-0d02e4a81400"
      },
      "outputs": [
        {
          "output_type": "stream",
          "name": "stdout",
          "text": [
            "adult                                                               False\n",
            "budget                                                          200000000\n",
            "genres                                [{'id': 99, 'name': 'Documentary'}]\n",
            "id                                                                 445590\n",
            "imdb_id                                                         tt2250194\n",
            "original_language                                                      zh\n",
            "original_title                                                    삼공일 삼공이\n",
            "popularity                                                     140.950236\n",
            "production_companies    [{'name': 'Új Budapest Filmstudió', 'id': 1655...\n",
            "production_countries       [{'iso_3166_1': 'ZA', 'name': 'South Africa'}]\n",
            "revenue                                                        1845034188\n",
            "runtime                                                             287.0\n",
            "spoken_languages                     [{'iso_639_1': 'zh', 'name': '普通话'}]\n",
            "title                                                           À la mode\n",
            "video                                                               False\n",
            "vote_average                                                         10.0\n",
            "vote_count                                                         9079.0\n",
            "dtype: object\n"
          ]
        },
        {
          "output_type": "stream",
          "name": "stderr",
          "text": [
            "<ipython-input-169-ec783cd347b8>:1: FutureWarning: The default value of numeric_only in DataFrame.max is deprecated. In a future version, it will default to False. In addition, specifying 'numeric_only=None' is deprecated. Select only valid columns or specify the value of numeric_only to silence this warning.\n",
            "  print(data.max())\n"
          ]
        }
      ],
      "source": [
        "print(data.max())"
      ]
    },
    {
      "cell_type": "code",
      "execution_count": null,
      "metadata": {
        "colab": {
          "base_uri": "https://localhost:8080/"
        },
        "id": "hCUGzm6_CGbV",
        "outputId": "1b0af3c4-6c55-4cb3-d6c5-1e375fb9af3b"
      },
      "outputs": [
        {
          "output_type": "stream",
          "name": "stdout",
          "text": [
            "adult                                        False\n",
            "budget                                           0\n",
            "genres                                          []\n",
            "id                                               5\n",
            "imdb_id                                  tt0013442\n",
            "original_language                               ar\n",
            "original_title          10 Things I Hate About You\n",
            "popularity                                0.000082\n",
            "production_companies                            []\n",
            "production_countries                            []\n",
            "revenue                                          0\n",
            "runtime                                        0.0\n",
            "spoken_languages                                []\n",
            "title                                        1-900\n",
            "video                                        False\n",
            "vote_average                                   0.0\n",
            "vote_count                                     0.0\n",
            "dtype: object\n"
          ]
        },
        {
          "output_type": "stream",
          "name": "stderr",
          "text": [
            "<ipython-input-170-b0b7e999f9e3>:1: FutureWarning: The default value of numeric_only in DataFrame.min is deprecated. In a future version, it will default to False. In addition, specifying 'numeric_only=None' is deprecated. Select only valid columns or specify the value of numeric_only to silence this warning.\n",
            "  print(data.min())\n"
          ]
        }
      ],
      "source": [
        "print(data.min())"
      ]
    },
    {
      "cell_type": "code",
      "execution_count": null,
      "metadata": {
        "colab": {
          "base_uri": "https://localhost:8080/"
        },
        "id": "WyHd1w6KCKTd",
        "outputId": "e9ea68cd-35b2-404f-836d-e72ebebb879d"
      },
      "outputs": [
        {
          "output_type": "stream",
          "name": "stdout",
          "text": [
            "<bound method IndexOpsMixin.value_counts of 0       False\n",
            "1       False\n",
            "2       False\n",
            "3       False\n",
            "4       False\n",
            "        ...  \n",
            "2531    False\n",
            "2532    False\n",
            "2533    False\n",
            "2534    False\n",
            "2535    False\n",
            "Name: adult, Length: 2536, dtype: bool>\n"
          ]
        }
      ],
      "source": [
        "print(data['adult'].value_counts)"
      ]
    },
    {
      "cell_type": "code",
      "execution_count": null,
      "metadata": {
        "colab": {
          "base_uri": "https://localhost:8080/"
        },
        "id": "j4v6vs9YN4ZD",
        "outputId": "3f5f41f1-3c00-41b2-ee85-713e916e9c15"
      },
      "outputs": [
        {
          "output_type": "stream",
          "name": "stdout",
          "text": [
            "0.001177    3\n",
            "0.001178    3\n",
            "0.001188    2\n",
            "0.036471    2\n",
            "0.001223    2\n",
            "           ..\n",
            "2.289647    1\n",
            "0.143150    1\n",
            "1.404588    1\n",
            "0.364246    1\n",
            "4.021579    1\n",
            "Name: popularity, Length: 2526, dtype: int64\n"
          ]
        }
      ],
      "source": [
        "print(data['popularity'].value_counts())"
      ]
    },
    {
      "cell_type": "code",
      "execution_count": null,
      "metadata": {
        "colab": {
          "base_uri": "https://localhost:8080/"
        },
        "id": "OIDJbOEbOXkG",
        "outputId": "62456c3a-e9eb-4a47-e7e9-114d4c3496ba"
      },
      "outputs": [
        {
          "output_type": "stream",
          "name": "stdout",
          "text": [
            "100.0    91\n",
            "97.0     78\n",
            "93.0     73\n",
            "91.0     70\n",
            "96.0     69\n",
            "         ..\n",
            "68.0      1\n",
            "50.0      1\n",
            "183.0     1\n",
            "212.0     1\n",
            "216.0     1\n",
            "Name: runtime, Length: 142, dtype: int64\n"
          ]
        }
      ],
      "source": [
        "print(data['runtime'].value_counts())"
      ]
    },
    {
      "cell_type": "code",
      "execution_count": null,
      "metadata": {
        "colab": {
          "base_uri": "https://localhost:8080/"
        },
        "id": "zL-CVzviTZkP",
        "outputId": "bd29cbe0-0deb-4031-f176-cc82379d9746"
      },
      "outputs": [
        {
          "output_type": "stream",
          "name": "stdout",
          "text": [
            "en    2279\n",
            "fr      81\n",
            "de      38\n",
            "it      30\n",
            "es      18\n",
            "ja      16\n",
            "zh      15\n",
            "cn      11\n",
            "sv       7\n",
            "pt       6\n",
            "fa       5\n",
            "ru       5\n",
            "nl       4\n",
            "no       2\n",
            "da       2\n",
            "cs       2\n",
            "sr       2\n",
            "bn       2\n",
            "pl       2\n",
            "he       1\n",
            "wo       1\n",
            "ro       1\n",
            "hu       1\n",
            "cy       1\n",
            "vi       1\n",
            "ko       1\n",
            "ar       1\n",
            "nb       1\n",
            "Name: original_language, dtype: int64\n"
          ]
        }
      ],
      "source": [
        "print(data['original_language'].value_counts())"
      ]
    },
    {
      "cell_type": "code",
      "execution_count": null,
      "metadata": {
        "colab": {
          "base_uri": "https://localhost:8080/"
        },
        "id": "kF1_SaRZUEvK",
        "outputId": "ca633592-2cab-42c5-9843-9955d2436c51"
      },
      "outputs": [
        {
          "output_type": "stream",
          "name": "stdout",
          "text": [
            "Released    2524\n",
            "Rumored        8\n",
            "Name: status, dtype: int64\n"
          ]
        }
      ],
      "source": [
        "print(data['status'].value_counts())"
      ]
    },
    {
      "cell_type": "code",
      "execution_count": null,
      "metadata": {
        "colab": {
          "base_uri": "https://localhost:8080/"
        },
        "id": "_OvGJt_uPPDN",
        "outputId": "7b5c81e3-645a-4085-c04d-7b2c8683bda5"
      },
      "outputs": [
        {
          "output_type": "stream",
          "name": "stdout",
          "text": [
            "                               belongs_to_collection    budget  \\\n",
            "0  {'id': 10194, 'name': 'Toy Story Collection', ...  30000000   \n",
            "1                                                NaN  65000000   \n",
            "2  {'id': 119050, 'name': 'Grumpy Old Men Collect...         0   \n",
            "3                                                NaN  16000000   \n",
            "4  {'id': 96871, 'name': 'Father of the Bride Col...         0   \n",
            "5                                                NaN  60000000   \n",
            "6                                                NaN  58000000   \n",
            "\n",
            "                                              genres  \\\n",
            "0  [{'id': 16, 'name': 'Animation'}, {'id': 35, '...   \n",
            "1  [{'id': 12, 'name': 'Adventure'}, {'id': 14, '...   \n",
            "2  [{'id': 10749, 'name': 'Romance'}, {'id': 35, ...   \n",
            "3  [{'id': 35, 'name': 'Comedy'}, {'id': 18, 'nam...   \n",
            "4                     [{'id': 35, 'name': 'Comedy'}]   \n",
            "5  [{'id': 28, 'name': 'Action'}, {'id': 80, 'nam...   \n",
            "6  [{'id': 35, 'name': 'Comedy'}, {'id': 10749, '...   \n",
            "\n",
            "                               homepage     id  \n",
            "0  http://toystory.disney.com/toy-story    862  \n",
            "1                                   NaN   8844  \n",
            "2                                   NaN  15602  \n",
            "3                                   NaN  31357  \n",
            "4                                   NaN  11862  \n",
            "5                                   NaN    949  \n",
            "6                                   NaN  11860  \n"
          ]
        }
      ],
      "source": [
        "print(data.iloc[0:7,1:6])"
      ]
    },
    {
      "cell_type": "code",
      "execution_count": null,
      "metadata": {
        "colab": {
          "base_uri": "https://localhost:8080/"
        },
        "id": "8hvlPr19Phrt",
        "outputId": "2825cab2-392c-4cbb-d1b8-2893a01fe6a1"
      },
      "outputs": [
        {
          "output_type": "stream",
          "name": "stdout",
          "text": [
            "      adult  belongs_to_collection  budget  genres  homepage     id  imdb_id  \\\n",
            "0     False                  False   False   False     False  False    False   \n",
            "1     False                   True   False   False      True  False    False   \n",
            "2     False                  False   False   False      True  False    False   \n",
            "3     False                   True   False   False      True  False    False   \n",
            "4     False                  False   False   False      True  False    False   \n",
            "...     ...                    ...     ...     ...       ...    ...      ...   \n",
            "2531  False                  False   False   False      True  False    False   \n",
            "2532  False                  False   False   False      True  False    False   \n",
            "2533  False                  False   False   False      True  False    False   \n",
            "2534  False                  False   False   False      True  False    False   \n",
            "2535  False                  False   False   False      True  False    False   \n",
            "\n",
            "      original_language  original_title  overview  ...  release_date  revenue  \\\n",
            "0                 False           False     False  ...         False    False   \n",
            "1                 False           False     False  ...         False    False   \n",
            "2                 False           False     False  ...         False    False   \n",
            "3                 False           False     False  ...         False    False   \n",
            "4                 False           False     False  ...         False    False   \n",
            "...                 ...             ...       ...  ...           ...      ...   \n",
            "2531              False           False     False  ...         False    False   \n",
            "2532              False           False     False  ...         False    False   \n",
            "2533              False           False     False  ...         False    False   \n",
            "2534              False           False     False  ...         False    False   \n",
            "2535              False           False     False  ...         False    False   \n",
            "\n",
            "      runtime  spoken_languages  status  tagline  title  video  vote_average  \\\n",
            "0       False             False   False     True  False  False         False   \n",
            "1       False             False   False    False  False  False         False   \n",
            "2       False             False   False    False  False  False         False   \n",
            "3       False             False   False    False  False  False         False   \n",
            "4       False             False   False    False  False  False         False   \n",
            "...       ...               ...     ...      ...    ...    ...           ...   \n",
            "2531    False             False   False    False  False  False         False   \n",
            "2532    False             False   False    False  False  False         False   \n",
            "2533    False             False   False    False  False  False         False   \n",
            "2534    False             False   False    False  False  False         False   \n",
            "2535    False             False   False    False  False   True          True   \n",
            "\n",
            "      vote_count  \n",
            "0          False  \n",
            "1          False  \n",
            "2          False  \n",
            "3          False  \n",
            "4          False  \n",
            "...          ...  \n",
            "2531       False  \n",
            "2532       False  \n",
            "2533       False  \n",
            "2534       False  \n",
            "2535        True  \n",
            "\n",
            "[2536 rows x 24 columns]\n"
          ]
        }
      ],
      "source": [
        "print(data.isnull())"
      ]
    },
    {
      "cell_type": "code",
      "execution_count": null,
      "metadata": {
        "colab": {
          "base_uri": "https://localhost:8080/"
        },
        "id": "1i-CCBDrP_6Q",
        "outputId": "7a4a6469-192f-4ba2-f339-bf5ee43c5c21"
      },
      "outputs": [
        {
          "output_type": "stream",
          "name": "stdout",
          "text": [
            "     adult                              belongs_to_collection    budget  \\\n",
            "46   False                                                NaN  33000000   \n",
            "49   False                                                NaN   6000000   \n",
            "109  False                                                NaN   1300000   \n",
            "186  False                                                NaN         0   \n",
            "256  False  {'id': 10, 'name': 'Star Wars Collection', 'po...  11000000   \n",
            "\n",
            "                                                genres  \\\n",
            "46   [{'id': 80, 'name': 'Crime'}, {'id': 9648, 'na...   \n",
            "49   [{'id': 18, 'name': 'Drama'}, {'id': 80, 'name...   \n",
            "109  [{'id': 80, 'name': 'Crime'}, {'id': 18, 'name...   \n",
            "186  [{'id': 14, 'name': 'Fantasy'}, {'id': 35, 'na...   \n",
            "256  [{'id': 12, 'name': 'Adventure'}, {'id': 28, '...   \n",
            "\n",
            "                                              homepage     id    imdb_id  \\\n",
            "46                          http://www.sevenmovie.com/    807  tt0114369   \n",
            "49   http://www.mgm.com/#/our-titles/2083/The-Usual...    629  tt0114814   \n",
            "109                                                NaN    103  tt0075314   \n",
            "186                                                NaN  58372  tt0114241   \n",
            "256  http://www.starwars.com/films/star-wars-episod...     11  tt0076759   \n",
            "\n",
            "    original_language      original_title  \\\n",
            "46                 en               Se7en   \n",
            "49                 en  The Usual Suspects   \n",
            "109                en         Taxi Driver   \n",
            "186                en            Reckless   \n",
            "256                en           Star Wars   \n",
            "\n",
            "                                              overview  ...  release_date  \\\n",
            "46   Two homicide detectives are on a desperate hun...  ...     9/22/1995   \n",
            "49   Held in an L.A. interrogation room, Verbal Kin...  ...     7/19/1995   \n",
            "109  A mentally unstable Vietnam War veteran works ...  ...      2/7/1976   \n",
            "186  On Christmas eve, a relentlessly cheerful woma...  ...    11/17/1995   \n",
            "256  Princess Leia is captured and held hostage by ...  ...     5/25/1977   \n",
            "\n",
            "       revenue runtime                                   spoken_languages  \\\n",
            "46   327311859   127.0           [{'iso_639_1': 'en', 'name': 'English'}]   \n",
            "49    23341568   106.0  [{'iso_639_1': 'es', 'name': 'Español'}, {'iso...   \n",
            "109   28262574   114.0  [{'iso_639_1': 'en', 'name': 'English'}, {'iso...   \n",
            "186          0    91.0           [{'iso_639_1': 'en', 'name': 'English'}]   \n",
            "256  775398007   121.0           [{'iso_639_1': 'en', 'name': 'English'}]   \n",
            "\n",
            "       status                                            tagline  \\\n",
            "46   Released              Seven deadly sins. Seven ways to die.   \n",
            "49   Released       Five Criminals. One Line Up. No Coincidence.   \n",
            "109  Released  On every street in every city, there's a nobod...   \n",
            "186  Released                   The most twisted Christmas ever.   \n",
            "256  Released       A long time ago in a galaxy far, far away...   \n",
            "\n",
            "                  title  video vote_average vote_count  \n",
            "46                Se7en  False          8.1     5915.0  \n",
            "49   The Usual Suspects  False          8.1     3334.0  \n",
            "109         Taxi Driver  False          8.1     2632.0  \n",
            "186            Reckless  False         10.0        1.0  \n",
            "256           Star Wars  False          8.1     6778.0  \n",
            "\n",
            "[5 rows x 24 columns]\n"
          ]
        }
      ],
      "source": [
        "high_rated_data=data[data['vote_average']>8]\n",
        "print(high_rated_data.head())"
      ]
    },
    {
      "cell_type": "code",
      "execution_count": null,
      "metadata": {
        "colab": {
          "base_uri": "https://localhost:8080/"
        },
        "id": "xKnFxnQARGGy",
        "outputId": "534b12c6-331b-4ee9-d15d-ac0b9fa9521f"
      },
      "outputs": [
        {
          "output_type": "stream",
          "name": "stdout",
          "text": [
            "      adult                              belongs_to_collection     budget  \\\n",
            "1267  False                                                NaN          0   \n",
            "1410  False                                                NaN          0   \n",
            "1406  False                                                NaN          0   \n",
            "1405  False                                                NaN          0   \n",
            "1403  False                                                NaN          0   \n",
            "...     ...                                                ...        ...   \n",
            "1808  False                                                NaN  140000000   \n",
            "1809  False  {'id': 945, 'name': 'Lethal Weapon Collection'...  140000000   \n",
            "1486  False  {'id': 43064, 'name': 'Speed Collection', 'pos...  160000000   \n",
            "205   False                                                NaN  175000000   \n",
            "1639  False                                                NaN  200000000   \n",
            "\n",
            "                                                 genres  \\\n",
            "1267  [{'id': 18, 'name': 'Drama'}, {'id': 28, 'name...   \n",
            "1410                     [{'id': 35, 'name': 'Comedy'}]   \n",
            "1406  [{'id': 35, 'name': 'Comedy'}, {'id': 18, 'nam...   \n",
            "1405                                                 []   \n",
            "1403  [{'id': 35, 'name': 'Comedy'}, {'id': 10751, '...   \n",
            "...                                                 ...   \n",
            "1808  [{'id': 28, 'name': 'Action'}, {'id': 53, 'nam...   \n",
            "1809  [{'id': 28, 'name': 'Action'}, {'id': 12, 'nam...   \n",
            "1486  [{'id': 28, 'name': 'Action'}, {'id': 12, 'nam...   \n",
            "205   [{'id': 12, 'name': 'Adventure'}, {'id': 28, '...   \n",
            "1639  [{'id': 18, 'name': 'Drama'}, {'id': 10749, 'n...   \n",
            "\n",
            "                         homepage      id    imdb_id original_language  \\\n",
            "1267                          NaN   66034  tt0116953                en   \n",
            "1410                          NaN   60083  tt0117544                fr   \n",
            "1406                          NaN   25796  tt0120318                en   \n",
            "1405                          NaN  333165  tt0118042                en   \n",
            "1403                          NaN   20735  tt0120317                en   \n",
            "...                           ...     ...        ...               ...   \n",
            "1808                          NaN      95  tt0120591                en   \n",
            "1809                          NaN     944  tt0122151                en   \n",
            "1486                          NaN    1639  tt0120179                en   \n",
            "205                           NaN    9804  tt0114898                en   \n",
            "1639  http://www.titanicmovie.com     597  tt0120338                en   \n",
            "\n",
            "                                        original_title  \\\n",
            "1267                                      Mad Dog Time   \n",
            "1410                                    Salut cousin !   \n",
            "1406                                  That Old Feeling   \n",
            "1405  Unforgotten: Twenty-Five Years After Willowbrook   \n",
            "1403                                     That Darn Cat   \n",
            "...                                                ...   \n",
            "1808                                        Armageddon   \n",
            "1809                                   Lethal Weapon 4   \n",
            "1486                           Speed 2: Cruise Control   \n",
            "205                                         Waterworld   \n",
            "1639                                           Titanic   \n",
            "\n",
            "                                               overview  ...  release_date  \\\n",
            "1267  With his boss in the madhouse, a mobster is te...  ...     11/8/1996   \n",
            "1410                                                NaN  ...    11/20/1996   \n",
            "1406  A bride's divorced parents find their old feel...  ...      4/4/1997   \n",
            "1405  It was a nightmare that shocked not only New Y...  ...     2/14/1997   \n",
            "1403  While making his nightly rounds in the neighbo...  ...     2/14/1997   \n",
            "...                                                 ...  ...           ...   \n",
            "1808  When an asteroid threatens to collide with Ear...  ...      7/1/1998   \n",
            "1809  In the combustible action franchise's final in...  ...     7/10/1998   \n",
            "1486  Sandra Bullock and Jason Patric star as a youn...  ...     6/13/1997   \n",
            "205   In a futuristic world where the polar ice caps...  ...     7/28/1995   \n",
            "1639  84 years later, a 101-year-old woman named Ros...  ...    11/18/1997   \n",
            "\n",
            "         revenue runtime                                   spoken_languages  \\\n",
            "1267           0    93.0           [{'iso_639_1': 'en', 'name': 'English'}]   \n",
            "1410           0     0.0          [{'iso_639_1': 'fr', 'name': 'Français'}]   \n",
            "1406           0   105.0  [{'iso_639_1': 'en', 'name': 'English'}, {'iso...   \n",
            "1405           0     0.0                                                 []   \n",
            "1403           0    89.0  [{'iso_639_1': 'en', 'name': 'English'}, {'iso...   \n",
            "...          ...     ...                                                ...   \n",
            "1808   553799566   151.0  [{'iso_639_1': 'en', 'name': 'English'}, {'iso...   \n",
            "1809   285444603   127.0  [{'iso_639_1': 'en', 'name': 'English'}, {'iso...   \n",
            "1486   164508066   121.0  [{'iso_639_1': 'en', 'name': 'English'}, {'iso...   \n",
            "205    264218220   135.0  [{'iso_639_1': 'en', 'name': 'English'}, {'iso...   \n",
            "1639  1845034188   194.0  [{'iso_639_1': 'en', 'name': 'English'}, {'iso...   \n",
            "\n",
            "        status                                            tagline  \\\n",
            "1267  Released                                                NaN   \n",
            "1410  Released                                                NaN   \n",
            "1406  Released  It was the perfect wedding except for two thin...   \n",
            "1405  Released                                                NaN   \n",
            "1403  Released  This FBI agent is purring his life on the line...   \n",
            "...        ...                                                ...   \n",
            "1808  Released  The Earth's Darkest Day Will Be Man's Finest Hour   \n",
            "1809  Released         The faces you love. The action you expect.   \n",
            "1486  Released  As the stakes get higher, the ride gets even f...   \n",
            "205   Released  Beyond the horizon lies the secret to a new be...   \n",
            "1639  Released          Nothing on Earth could come between them.   \n",
            "\n",
            "                                                 title  video vote_average  \\\n",
            "1267                                      Mad Dog Time  False          6.2   \n",
            "1410                                    Salut cousin !  False          3.3   \n",
            "1406                                  That Old Feeling  False          7.1   \n",
            "1405  Unforgotten: Twenty-Five Years After Willowbrook  False          7.0   \n",
            "1403                                     That Darn Cat  False          3.9   \n",
            "...                                                ...    ...          ...   \n",
            "1808                                        Armageddon  False          6.5   \n",
            "1809                                   Lethal Weapon 4  False          6.3   \n",
            "1486                           Speed 2: Cruise Control  False          4.1   \n",
            "205                                         Waterworld  False          5.9   \n",
            "1639                                           Titanic  False          7.5   \n",
            "\n",
            "     vote_count  \n",
            "1267       12.0  \n",
            "1410        4.0  \n",
            "1406       15.0  \n",
            "1405        2.0  \n",
            "1403       11.0  \n",
            "...         ...  \n",
            "1808     2540.0  \n",
            "1809      782.0  \n",
            "1486      439.0  \n",
            "205      1017.0  \n",
            "1639     7770.0  \n",
            "\n",
            "[2536 rows x 24 columns]\n"
          ]
        }
      ],
      "source": [
        "print(data.sort_values(by=\"budget\",ascending=True))"
      ]
    },
    {
      "cell_type": "code",
      "execution_count": null,
      "metadata": {
        "colab": {
          "base_uri": "https://localhost:8080/"
        },
        "id": "DewAHTtQRbg1",
        "outputId": "d540b6c9-04f3-4827-ba74-e69bcb58e76d"
      },
      "outputs": [
        {
          "output_type": "stream",
          "name": "stdout",
          "text": [
            "      adult                              belongs_to_collection     budget  \\\n",
            "1639  False                                                NaN  200000000   \n",
            "2514  False  {'id': 10, 'name': 'Star Wars Collection', 'po...  115000000   \n",
            "475   False  {'id': 328, 'name': 'Jurassic Park Collection'...   63000000   \n",
            "760   False  {'id': 304378, 'name': 'Independence Day Colle...   75000000   \n",
            "1065  False                                                NaN   10500000   \n",
            "\n",
            "                                                 genres  \\\n",
            "1639  [{'id': 18, 'name': 'Drama'}, {'id': 10749, 'n...   \n",
            "2514  [{'id': 12, 'name': 'Adventure'}, {'id': 28, '...   \n",
            "475   [{'id': 12, 'name': 'Adventure'}, {'id': 878, ...   \n",
            "760   [{'id': 28, 'name': 'Action'}, {'id': 12, 'nam...   \n",
            "1065  [{'id': 878, 'name': 'Science Fiction'}, {'id'...   \n",
            "\n",
            "                                               homepage    id    imdb_id  \\\n",
            "1639                        http://www.titanicmovie.com   597  tt0120338   \n",
            "2514  http://www.starwars.com/films/star-wars-episod...  1893  tt0120915   \n",
            "475                        http://www.jurassicpark.com/   329  tt0107290   \n",
            "760                                                 NaN   602  tt0116629   \n",
            "1065                               http://www.et20.com/   601  tt0083866   \n",
            "\n",
            "     original_language                             original_title  \\\n",
            "1639                en                                    Titanic   \n",
            "2514                en  Star Wars: Episode I - The Phantom Menace   \n",
            "475                 en                              Jurassic Park   \n",
            "760                 en                           Independence Day   \n",
            "1065                en                 E.T. the Extra-Terrestrial   \n",
            "\n",
            "                                               overview  ...  release_date  \\\n",
            "1639  84 years later, a 101-year-old woman named Ros...  ...    11/18/1997   \n",
            "2514  Anakin Skywalker, a young slave strong with th...  ...     5/19/1999   \n",
            "475   A wealthy entrepreneur secretly creates a them...  ...     6/11/1993   \n",
            "760   On July 2, a giant alien mothership enters orb...  ...     6/25/1996   \n",
            "1065  After a gentle alien becomes stranded on Earth...  ...      4/3/1982   \n",
            "\n",
            "         revenue runtime                                   spoken_languages  \\\n",
            "1639  1845034188   194.0  [{'iso_639_1': 'en', 'name': 'English'}, {'iso...   \n",
            "2514   924317558   136.0           [{'iso_639_1': 'en', 'name': 'English'}]   \n",
            "475    920100000   127.0  [{'iso_639_1': 'en', 'name': 'English'}, {'iso...   \n",
            "760    816969268   145.0           [{'iso_639_1': 'en', 'name': 'English'}]   \n",
            "1065   792965326   115.0           [{'iso_639_1': 'en', 'name': 'English'}]   \n",
            "\n",
            "        status                                            tagline  \\\n",
            "1639  Released          Nothing on Earth could come between them.   \n",
            "2514  Released  Every generation has a legend. Every journey h...   \n",
            "475   Released       An adventure 65 million years in the making.   \n",
            "760   Released    Earth. Take a good look. It might be your last.   \n",
            "1065  Released  He is afraid. He is alone. He is three million...   \n",
            "\n",
            "                                          title  video vote_average vote_count  \n",
            "1639                                    Titanic  False          7.5     7770.0  \n",
            "2514  Star Wars: Episode I - The Phantom Menace  False          6.4     4526.0  \n",
            "475                               Jurassic Park  False          7.6     4956.0  \n",
            "760                            Independence Day  False          6.7     3334.0  \n",
            "1065                 E.T. the Extra-Terrestrial  False          7.3     3359.0  \n",
            "\n",
            "[5 rows x 24 columns]\n"
          ]
        }
      ],
      "source": [
        "print(data.sort_values(by='revenue',ascending=False).head())"
      ]
    },
    {
      "cell_type": "code",
      "execution_count": null,
      "metadata": {
        "colab": {
          "base_uri": "https://localhost:8080/"
        },
        "id": "sF4UiyLthVlh",
        "outputId": "bb108253-6994-4d0e-ccab-49690fdef400"
      },
      "outputs": [
        {
          "output_type": "stream",
          "name": "stdout",
          "text": [
            "      adult                              belongs_to_collection    budget  \\\n",
            "351   False                                                NaN  55000000   \n",
            "314   False                                                NaN  25000000   \n",
            "292   False                                                NaN   8000000   \n",
            "2458  False  {'id': 2344, 'name': 'The Matrix Collection', ...  63000000   \n",
            "2535  False  {'id': 218406, 'name': 'Frankenstein (Universa...         0   \n",
            "\n",
            "                                                 genres  \\\n",
            "351   [{'id': 35, 'name': 'Comedy'}, {'id': 18, 'nam...   \n",
            "314   [{'id': 18, 'name': 'Drama'}, {'id': 80, 'name...   \n",
            "292   [{'id': 53, 'name': 'Thriller'}, {'id': 80, 'n...   \n",
            "2458  [{'id': 28, 'name': 'Action'}, {'id': 878, 'na...   \n",
            "2535  [{'id': 14, 'name': 'Fantasy'}, {'id': 27, 'na...   \n",
            "\n",
            "                              homepage    id    imdb_id original_language  \\\n",
            "351                                NaN    13  tt0109830                en   \n",
            "314                                NaN   278  tt0111161                en   \n",
            "292                                NaN   680  tt0110912                en   \n",
            "2458  http://www.warnerbros.com/matrix   603  tt0133093                en   \n",
            "2535                               NaN  3074  tt0034786                en   \n",
            "\n",
            "                 original_title  \\\n",
            "351                Forrest Gump   \n",
            "314    The Shawshank Redemption   \n",
            "292                Pulp Fiction   \n",
            "2458                 The Matrix   \n",
            "2535  The Ghost of Frankenstein   \n",
            "\n",
            "                                               overview  ...  release_date  \\\n",
            "351   A man with a low IQ has accomplished great thi...  ...      7/6/1994   \n",
            "314   Framed in the 1940s for the double murder of h...  ...     9/23/1994   \n",
            "292   A burger-loving hit man, his philosophical par...  ...     9/10/1994   \n",
            "2458  Set in the 22nd century, The Matrix tells the ...  ...     3/30/1999   \n",
            "2535  Ygor discovers Frankenstein's creation is stil...  ...     3/13/1942   \n",
            "\n",
            "        revenue runtime                                   spoken_languages  \\\n",
            "351   677945399   142.0           [{'iso_639_1': 'en', 'name': 'English'}]   \n",
            "314    28341469   142.0           [{'iso_639_1': 'en', 'name': 'English'}]   \n",
            "292   213928762   154.0  [{'iso_639_1': 'en', 'name': 'English'}, {'iso...   \n",
            "2458  463517383   136.0           [{'iso_639_1': 'en', 'name': 'English'}]   \n",
            "2535          0    67.0           [{'iso_639_1': 'en', 'name': 'English'}]   \n",
            "\n",
            "        status                                            tagline  \\\n",
            "351   Released  The world will never be the same, once you've ...   \n",
            "314   Released  Fear can hold you prisoner. Hope can set you f...   \n",
            "292   Released  Just because you are a character doesn't mean ...   \n",
            "2458  Released                         Welcome to the Real World.   \n",
            "2535  Released                                   All new THRILLS!   \n",
            "\n",
            "                         title  video vote_average vote_count  \n",
            "351               Forrest Gump  False          8.2     8147.0  \n",
            "314   The Shawshank Redemption  False          8.5     8358.0  \n",
            "292               Pulp Fiction  False          8.3     8670.0  \n",
            "2458                The Matrix  False          7.9     9079.0  \n",
            "2535                     The G    NaN          NaN        NaN  \n",
            "\n",
            "[5 rows x 24 columns]\n"
          ]
        }
      ],
      "source": [
        "print(data.sort_values(by='vote_count',ascending=True).tail())"
      ]
    },
    {
      "cell_type": "markdown",
      "metadata": {
        "id": "VYDD1QusiEs0"
      },
      "source": [
        "Data Visualization"
      ]
    },
    {
      "cell_type": "code",
      "execution_count": null,
      "metadata": {
        "colab": {
          "base_uri": "https://localhost:8080/",
          "height": 469
        },
        "id": "k7CdNIIuhnVG",
        "outputId": "d6087665-5551-480d-bf1f-c4cbe37e51f6"
      },
      "outputs": [
        {
          "output_type": "display_data",
          "data": {
            "text/plain": [
              "<Figure size 640x480 with 1 Axes>"
            ],
            "image/png": "[encoded data removed]"
          },
          "metadata": {}
        },
        {
          "output_type": "stream",
          "name": "stdout",
          "text": [
            "None\n"
          ]
        }
      ],
      "source": [
        "plt.hist(data['vote_average'])\n",
        "plt.title('Histogram')\n",
        "print(plt.show())"
      ]
    },
    {
      "cell_type": "code",
      "execution_count": null,
      "metadata": {
        "colab": {
          "base_uri": "https://localhost:8080/",
          "height": 469
        },
        "id": "-w9tZ7V1ia-Z",
        "outputId": "ce31a8e8-8577-4524-bd01-ede6488319b3"
      },
      "outputs": [
        {
          "output_type": "display_data",
          "data": {
            "text/plain": [
              "<Figure size 640x480 with 1 Axes>"
            ],
            "image/png": "[encoded data removed]"
          },
          "metadata": {}
        },
        {
          "output_type": "stream",
          "name": "stdout",
          "text": [
            "None\n"
          ]
        }
      ],
      "source": [
        "plt.hist(data['runtime'])\n",
        "plt.title('Histogram')\n",
        "print(plt.show())"
      ]
    },
    {
      "cell_type": "code",
      "execution_count": null,
      "metadata": {
        "colab": {
          "base_uri": "https://localhost:8080/",
          "height": 270
        },
        "id": "vCog64ymm26Q",
        "outputId": "3816bd87-d78a-4bef-9eb9-69ffb48fcc61"
      },
      "outputs": [
        {
          "data": {
            "image/png": "[encoded data removed]",
            "text/plain": [
              "<Figure size 640x480 with 1 Axes>"
            ]
          },
          "metadata": {},
          "output_type": "display_data"
        },
        {
          "name": "stdout",
          "output_type": "stream",
          "text": [
            "None\n"
          ]
        }
      ],
      "source": [
        "plt.scatter(data['production_countries'],data['id'],color='r',marker='*')\n",
        "plt.xlabel('production_countries')\n",
        "plt.ylabel('id')\n",
        "plt.title('scatter plot')\n",
        "print(plt.show())"
      ]
    },
    {
      "cell_type": "code",
      "execution_count": null,
      "metadata": {
        "colab": {
          "base_uri": "https://localhost:8080/",
          "height": 489
        },
        "id": "kWv8OvV-l2N2",
        "outputId": "28b6ea42-7275-45b2-bcfb-e23f60a6daa6"
      },
      "outputs": [
        {
          "output_type": "display_data",
          "data": {
            "text/plain": [
              "<Figure size 640x480 with 1 Axes>"
            ],
            "image/png": "[encoded data removed]"
          },
          "metadata": {}
        },
        {
          "output_type": "stream",
          "name": "stdout",
          "text": [
            "None\n"
          ]
        }
      ],
      "source": [
        "plt.bar(data['title'].head(),data['vote_average'].head(),color='g')\n",
        "plt.xlabel('title')\n",
        "plt.ylabel('vote_average')\n",
        "plt.title('Bar plot')\n",
        "print(plt.show())"
      ]
    },
    {
      "cell_type": "code",
      "execution_count": null,
      "metadata": {
        "colab": {
          "base_uri": "https://localhost:8080/",
          "height": 489
        },
        "id": "Rjq1U0Doy8Bm",
        "outputId": "db73b327-be40-4abe-d97c-3c5541ba2f49"
      },
      "outputs": [
        {
          "output_type": "display_data",
          "data": {
            "text/plain": [
              "<Figure size 640x480 with 1 Axes>"
            ],
            "image/png": "[encoded data removed]"
          },
          "metadata": {}
        },
        {
          "output_type": "stream",
          "name": "stdout",
          "text": [
            "None\n"
          ]
        }
      ],
      "source": [
        "sns.violinplot(data['budget'],color='pink')\n",
        "plt.xlabel('budget')\n",
        "plt.title('violin plot')\n",
        "print(plt.show())"
      ]
    },
    {
      "cell_type": "code",
      "execution_count": null,
      "metadata": {
        "colab": {
          "base_uri": "https://localhost:8080/",
          "height": 489
        },
        "id": "0ug8BA_yD5Jc",
        "outputId": "dc25b1c4-f205-4b2a-f3fb-7c2c9287da4a"
      },
      "outputs": [
        {
          "output_type": "display_data",
          "data": {
            "text/plain": [
              "<Figure size 640x480 with 1 Axes>"
            ],
            "image/png": "[encoded data removed]"
          },
          "metadata": {}
        },
        {
          "output_type": "stream",
          "name": "stdout",
          "text": [
            "None\n"
          ]
        }
      ],
      "source": [
        "plt.plot(data['original_language'],color='brown')\n",
        "plt.title('Line plot')\n",
        "plt.xlabel('original_language')\n",
        "print(plt.show())"
      ]
    },
    {
      "cell_type": "code",
      "execution_count": null,
      "metadata": {
        "colab": {
          "base_uri": "https://localhost:8080/",
          "height": 445
        },
        "id": "PtleAdwvMCiF",
        "outputId": "634a3e91-6b2f-4f9c-d526-149b4fbd7173"
      },
      "outputs": [
        {
          "output_type": "display_data",
          "data": {
            "text/plain": [
              "<Figure size 640x480 with 1 Axes>"
            ],
            "image/png": "[encoded data removed]"
          },
          "metadata": {}
        },
        {
          "output_type": "stream",
          "name": "stdout",
          "text": [
            "None\n"
          ]
        }
      ],
      "source": [
        "plt.pie(data['popularity'].head(10),labels=data['original_title'].head(10),autopct='%0.1f%%')\n",
        "plt.title('pie plot')\n",
        "print(plt.show())"
      ]
    },
    {
      "cell_type": "code",
      "source": [],
      "metadata": {
        "id": "JUIKvuzmbhqd"
      },
      "execution_count": null,
      "outputs": []
    }
  ],
  "metadata": {
    "colab": {
      "provenance": [],
      "authorship_tag": "ABX9TyMuW3Wx9kd9PYGfkdKsxCUr",
      "include_colab_link": true
    },
    "kernelspec": {
      "display_name": "Python 3",
      "name": "python3"
    },
    "language_info": {
      "name": "python"
    }
  },
  "nbformat": 4,
  "nbformat_minor": 0
}